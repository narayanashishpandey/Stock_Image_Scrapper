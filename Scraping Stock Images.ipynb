{
 "cells": [
  {
   "cell_type": "code",
   "execution_count": 2,
   "id": "d176a0c3",
   "metadata": {},
   "outputs": [],
   "source": [
    "import chromedriver_binary\n",
    "import requests\n",
    "import time\n",
    "import pandas as pd\n",
    "\n",
    "\n",
    "from selenium import webdriver\n",
    "from bs4 import BeautifulSoup\n",
    "from tqdm import tqdm\n",
    "\n",
    "browser = webdriver.Chrome()\n",
    "browser.get('https://stock-pictures.netlify.app')"
   ]
  },
  {
   "cell_type": "markdown",
   "id": "d19ea167",
   "metadata": {},
   "source": [
    "### 1. Scrolling images to bottom"
   ]
  },
  {
   "cell_type": "code",
   "execution_count": 27,
   "id": "3dc6390f",
   "metadata": {},
   "outputs": [
    {
     "name": "stderr",
     "output_type": "stream",
     "text": [
      "100%|████████████████████████████████████████████████████████████████████████████████| 200/200 [00:26<00:00,  7.58it/s]\n"
     ]
    }
   ],
   "source": [
    "for i in tqdm(range(0, 2000000, 1000)):\n",
    "    browser.execute_script(\"window.scrollTo(0,\" + str(i) + \")\")\n",
    "    time.sleep(.1)"
   ]
  },
  {
   "cell_type": "markdown",
   "id": "1c1b85a4",
   "metadata": {},
   "source": [
    "### 2. Scraping Page Source"
   ]
  },
  {
   "cell_type": "code",
   "execution_count": 28,
   "id": "176fd619",
   "metadata": {},
   "outputs": [],
   "source": [
    "soup = BeautifulSoup(browser.page_source, 'html.parser')"
   ]
  },
  {
   "cell_type": "code",
   "execution_count": 29,
   "id": "8a9f2364",
   "metadata": {},
   "outputs": [
    {
     "data": {
      "text/plain": [
       "481"
      ]
     },
     "execution_count": 29,
     "metadata": {},
     "output_type": "execute_result"
    }
   ],
   "source": [
    "len(soup.find_all('div', class_ = 'container'))"
   ]
  },
  {
   "cell_type": "markdown",
   "id": "b42519f7",
   "metadata": {},
   "source": [
    "### 3. Scraping images Details and Saving into Data List"
   ]
  },
  {
   "cell_type": "code",
   "execution_count": 33,
   "id": "5cb1230c",
   "metadata": {},
   "outputs": [
    {
     "name": "stderr",
     "output_type": "stream",
     "text": [
      "100%|██████████████████████████████████████████████████████████████████████████████| 481/481 [00:00<00:00, 2367.09it/s]\n"
     ]
    }
   ],
   "source": [
    "data = []\n",
    "\n",
    "for sp in tqdm(soup.find_all('div', class_ = 'container')):\n",
    "    img_link = sp.find('img').get('src')\n",
    "    tags = sp.find('span', class_ = 'tag-color').text[7:].strip()\n",
    "    likes = int(sp.find('div', class_ = 'likes-comments').find_all('span')[0].text.strip()[:-6])\n",
    "    comments = int(sp.find('div', class_ = 'likes-comments').find_all('span')[1].text.strip()[:-9])\n",
    "    \n",
    "    data.append([img_link, tags, likes, comments])"
   ]
  },
  {
   "cell_type": "markdown",
   "id": "81080cd1",
   "metadata": {},
   "source": [
    "### 4. Saving images into DataFrame"
   ]
  },
  {
   "cell_type": "code",
   "execution_count": 34,
   "id": "92f1af49",
   "metadata": {},
   "outputs": [],
   "source": [
    "df = pd.DataFrame(data, columns = ['img_link', 'tags', 'likes', 'comments'])"
   ]
  },
  {
   "cell_type": "code",
   "execution_count": 35,
   "id": "3d6fe316",
   "metadata": {},
   "outputs": [
    {
     "data": {
      "text/html": [
       "<div>\n",
       "<style scoped>\n",
       "    .dataframe tbody tr th:only-of-type {\n",
       "        vertical-align: middle;\n",
       "    }\n",
       "\n",
       "    .dataframe tbody tr th {\n",
       "        vertical-align: top;\n",
       "    }\n",
       "\n",
       "    .dataframe thead th {\n",
       "        text-align: right;\n",
       "    }\n",
       "</style>\n",
       "<table border=\"1\" class=\"dataframe\">\n",
       "  <thead>\n",
       "    <tr style=\"text-align: right;\">\n",
       "      <th></th>\n",
       "      <th>img_link</th>\n",
       "      <th>tags</th>\n",
       "      <th>likes</th>\n",
       "      <th>comments</th>\n",
       "    </tr>\n",
       "  </thead>\n",
       "  <tbody>\n",
       "    <tr>\n",
       "      <th>0</th>\n",
       "      <td>https://cdn.pixabay.com/photo/2022/03/06/05/30...</td>\n",
       "      <td>Clouds, Sky, Atmosphere, Blue Sky</td>\n",
       "      <td>196</td>\n",
       "      <td>55</td>\n",
       "    </tr>\n",
       "    <tr>\n",
       "      <th>1</th>\n",
       "      <td>https://cdn.pixabay.com/photo/2022/04/07/11/45...</td>\n",
       "      <td>Bird, Ornithology, Hummingbird</td>\n",
       "      <td>76</td>\n",
       "      <td>20</td>\n",
       "    </tr>\n",
       "    <tr>\n",
       "      <th>2</th>\n",
       "      <td>https://cdn.pixabay.com/photo/2022/02/28/15/28...</td>\n",
       "      <td>Sea, Rainbow, Rainfall, Subtropical</td>\n",
       "      <td>282</td>\n",
       "      <td>106</td>\n",
       "    </tr>\n",
       "    <tr>\n",
       "      <th>3</th>\n",
       "      <td>https://cdn.pixabay.com/photo/2022/04/04/02/52...</td>\n",
       "      <td>Cherry Blossoms, Road, Japan, Sakura</td>\n",
       "      <td>42</td>\n",
       "      <td>11</td>\n",
       "    </tr>\n",
       "    <tr>\n",
       "      <th>4</th>\n",
       "      <td>https://cdn.pixabay.com/photo/2022/04/09/18/06...</td>\n",
       "      <td>Cape Marguerite, Flower, Plant</td>\n",
       "      <td>39</td>\n",
       "      <td>15</td>\n",
       "    </tr>\n",
       "    <tr>\n",
       "      <th>...</th>\n",
       "      <td>...</td>\n",
       "      <td>...</td>\n",
       "      <td>...</td>\n",
       "      <td>...</td>\n",
       "    </tr>\n",
       "    <tr>\n",
       "      <th>476</th>\n",
       "      <td>https://cdn.pixabay.com/photo/2022/04/07/14/57...</td>\n",
       "      <td>Horse, Brown Horse, Farm Animal, Equine</td>\n",
       "      <td>4</td>\n",
       "      <td>3</td>\n",
       "    </tr>\n",
       "    <tr>\n",
       "      <th>477</th>\n",
       "      <td>https://cdn.pixabay.com/photo/2022/04/07/17/52...</td>\n",
       "      <td>Flower, Red Flower, Nature, Spring</td>\n",
       "      <td>8</td>\n",
       "      <td>5</td>\n",
       "    </tr>\n",
       "    <tr>\n",
       "      <th>478</th>\n",
       "      <td>https://cdn.pixabay.com/photo/2022/04/03/16/47...</td>\n",
       "      <td>Roses, Bouquet, Flowers, Two-Tone Roses</td>\n",
       "      <td>10</td>\n",
       "      <td>4</td>\n",
       "    </tr>\n",
       "    <tr>\n",
       "      <th>479</th>\n",
       "      <td>https://cdn.pixabay.com/photo/2022/04/06/17/15...</td>\n",
       "      <td>Flowers, Magnolia, Bloom, Blossom</td>\n",
       "      <td>3</td>\n",
       "      <td>0</td>\n",
       "    </tr>\n",
       "    <tr>\n",
       "      <th>480</th>\n",
       "      <td>https://cdn.pixabay.com/photo/2022/04/08/00/25...</td>\n",
       "      <td>Plane, Aviation, Show, Aircraft, Engine</td>\n",
       "      <td>3</td>\n",
       "      <td>0</td>\n",
       "    </tr>\n",
       "  </tbody>\n",
       "</table>\n",
       "<p>481 rows × 4 columns</p>\n",
       "</div>"
      ],
      "text/plain": [
       "                                              img_link  \\\n",
       "0    https://cdn.pixabay.com/photo/2022/03/06/05/30...   \n",
       "1    https://cdn.pixabay.com/photo/2022/04/07/11/45...   \n",
       "2    https://cdn.pixabay.com/photo/2022/02/28/15/28...   \n",
       "3    https://cdn.pixabay.com/photo/2022/04/04/02/52...   \n",
       "4    https://cdn.pixabay.com/photo/2022/04/09/18/06...   \n",
       "..                                                 ...   \n",
       "476  https://cdn.pixabay.com/photo/2022/04/07/14/57...   \n",
       "477  https://cdn.pixabay.com/photo/2022/04/07/17/52...   \n",
       "478  https://cdn.pixabay.com/photo/2022/04/03/16/47...   \n",
       "479  https://cdn.pixabay.com/photo/2022/04/06/17/15...   \n",
       "480  https://cdn.pixabay.com/photo/2022/04/08/00/25...   \n",
       "\n",
       "                                        tags  likes  comments  \n",
       "0          Clouds, Sky, Atmosphere, Blue Sky    196        55  \n",
       "1             Bird, Ornithology, Hummingbird     76        20  \n",
       "2        Sea, Rainbow, Rainfall, Subtropical    282       106  \n",
       "3       Cherry Blossoms, Road, Japan, Sakura     42        11  \n",
       "4             Cape Marguerite, Flower, Plant     39        15  \n",
       "..                                       ...    ...       ...  \n",
       "476  Horse, Brown Horse, Farm Animal, Equine      4         3  \n",
       "477       Flower, Red Flower, Nature, Spring      8         5  \n",
       "478  Roses, Bouquet, Flowers, Two-Tone Roses     10         4  \n",
       "479        Flowers, Magnolia, Bloom, Blossom      3         0  \n",
       "480  Plane, Aviation, Show, Aircraft, Engine      3         0  \n",
       "\n",
       "[481 rows x 4 columns]"
      ]
     },
     "execution_count": 35,
     "metadata": {},
     "output_type": "execute_result"
    }
   ],
   "source": [
    "df"
   ]
  },
  {
   "cell_type": "code",
   "execution_count": 36,
   "id": "9119c457",
   "metadata": {},
   "outputs": [],
   "source": [
    "df = df.drop_duplicates()"
   ]
  },
  {
   "cell_type": "code",
   "execution_count": 37,
   "id": "43052d79",
   "metadata": {},
   "outputs": [],
   "source": [
    "df.to_csv('images.csv', index = False)"
   ]
  },
  {
   "cell_type": "code",
   "execution_count": null,
   "id": "ee948110",
   "metadata": {},
   "outputs": [],
   "source": []
  },
  {
   "cell_type": "code",
   "execution_count": null,
   "id": "acc68184",
   "metadata": {},
   "outputs": [],
   "source": []
  },
  {
   "cell_type": "code",
   "execution_count": null,
   "id": "e3eac5e6",
   "metadata": {},
   "outputs": [],
   "source": []
  },
  {
   "cell_type": "code",
   "execution_count": null,
   "id": "cd7afcba",
   "metadata": {},
   "outputs": [],
   "source": []
  },
  {
   "cell_type": "code",
   "execution_count": null,
   "id": "68627851",
   "metadata": {},
   "outputs": [],
   "source": []
  },
  {
   "cell_type": "code",
   "execution_count": null,
   "id": "e845d0b5",
   "metadata": {},
   "outputs": [],
   "source": []
  },
  {
   "cell_type": "code",
   "execution_count": null,
   "id": "9eabfcfb",
   "metadata": {},
   "outputs": [],
   "source": []
  },
  {
   "cell_type": "code",
   "execution_count": null,
   "id": "43f41933",
   "metadata": {},
   "outputs": [],
   "source": []
  },
  {
   "cell_type": "code",
   "execution_count": null,
   "id": "cc0b39fa",
   "metadata": {},
   "outputs": [],
   "source": []
  },
  {
   "cell_type": "code",
   "execution_count": null,
   "id": "9b3e1f30",
   "metadata": {},
   "outputs": [],
   "source": []
  },
  {
   "cell_type": "code",
   "execution_count": null,
   "id": "2abe848e",
   "metadata": {},
   "outputs": [],
   "source": []
  },
  {
   "cell_type": "code",
   "execution_count": null,
   "id": "82210076",
   "metadata": {},
   "outputs": [],
   "source": []
  },
  {
   "cell_type": "code",
   "execution_count": null,
   "id": "f383a591",
   "metadata": {},
   "outputs": [],
   "source": []
  },
  {
   "cell_type": "code",
   "execution_count": null,
   "id": "df29097c",
   "metadata": {},
   "outputs": [],
   "source": []
  },
  {
   "cell_type": "code",
   "execution_count": null,
   "id": "6957535d",
   "metadata": {},
   "outputs": [],
   "source": []
  }
 ],
 "metadata": {
  "kernelspec": {
   "display_name": "Python 3 (ipykernel)",
   "language": "python",
   "name": "python3"
  },
  "language_info": {
   "codemirror_mode": {
    "name": "ipython",
    "version": 3
   },
   "file_extension": ".py",
   "mimetype": "text/x-python",
   "name": "python",
   "nbconvert_exporter": "python",
   "pygments_lexer": "ipython3",
   "version": "3.9.12"
  }
 },
 "nbformat": 4,
 "nbformat_minor": 5
}
